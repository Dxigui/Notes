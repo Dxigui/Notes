{
 "cells": [
  {
   "cell_type": "markdown",
   "metadata": {},
   "source": [
    "# 决策树\n",
    "决策树(decision tree)是一种基本的分类和回归方法.在分类问题中,决策树在对特征进行分类过程中可以被认为是一种 `if-then` 规则的集合.  \n",
    "决策树优点:  \n",
    "* 有良好的可读性\n",
    "* 分类速度快  \n",
    "\n",
    "决策树的学习包括:  \n",
    "* 特征选择\n",
    "* 决策树的生成\n",
    "* 决策树的修剪  \n",
    "\n",
    "决策树的算法:  \n",
    "* ID3 : 信息增益\n",
    "* C4.5 : 信息增益比\n",
    "* CART : gini 指数\n",
    "\n",
    "## 特征选择\n",
    "### 1. 信息增益选择特征\n",
    "选择合适的特征作为根节点能提升分类效果,特征的信息增益最大的为最优特征.  \n",
    "信息增益 = 经验熵 - 条件经验熵  \n",
    "$ g(D,A) = H(D) - H(D|A) $  \n",
    "* 经验熵: H(D) 为数据集 D 的经验熵  \n",
    "$ H(D) = -\\sum_{i=1}^{n}p_i{log_2{p_i}} $  \n",
    "$ p_i = P(X=x_i),i=1,2,...,n $  \n",
    "* 经验条件熵: H(Y|X) 特征 X 对数据集 D 的经验熵  \n",
    "$ H(Y|X) = \\sum_{i=1}^{n}p_iH(Y|X=x_i) $  \n",
    "\n",
    "示例:  \n",
    "训练数据集 D,|D| 表示其样本容量,即样本个数.设 K 个类 $ C_k $,k=1,2,...,K,$ |C_k| $ 为属于类 $ C_k $ 的样本个数,$ \\sum_{k=1}^{K}|C_k|=|D| $.社特征 A 有 n 个不同的取值 {$ a_1,a_2,...,a_n $},根据特征 A 的取值将 D 划分为 n 个子集 {$ D_1,D_2,...,D_3 $},$ |D_i| $ 为 $ D_i $ 的样本个数,$ \\sum_{i=1}^{n}|D_i|=|D| $,子集 $ D_i $ 中数据类 $ C_k $ 的样本的集合为 $ D_{ik} $,即 $ D_{ik}={D_i}\\bigcap{C_k},{D_{ik}} 为 D_{ik} $ 的样本个数.  \n",
    "1. 计算数据集 D 的经验熵 H(D)  \n",
    "$ H(D) = -\\sum_{k=1}^{k}\\frac{|C_k|}{|D|}log_2\\frac{|C_k|}{|D|} $  \n",
    "2. 计算特征 A 对数据集 D 的经验条件熵 H(D|A)  \n",
    "$ H(D|A) = \\sum_{i=1}^{n}\\frac{|C_i|}{|D|}H(D_i) = -\\sum_{i=1}^{n}\\frac{|C_i|}{|D|}\\sum_{k=1}^{k}\\frac{|D_ik|}{|Di|}log_2\\frac{|D_ik|}{|Di|} $  \n",
    "3. 计算信息增益  \n",
    "$ g(D,A) = H(D) - H(D|A) $  \n",
    "\n",
    "### 2. 信息增益比选择特征  \n",
    "信息增益比是对信息增益的校正.当分类困难,训练数据集的经验熵过大,信息增益值会偏大,反之偏小,这时就需要对其进行校正.  \n",
    "* 信息增益比 = 信息增益 / 经验熵  \n",
    "$ g_R(D,A) = \\frac{g(D,A)}{H(D)} $  \n",
    "\n",
    "## 决策树的生成  \n"
   ]
  },
  {
   "cell_type": "code",
   "execution_count": 2,
   "metadata": {},
   "outputs": [],
   "source": [
    "import math\n",
    "from math import log\n",
    "from collections import Counter\n",
    "\n",
    "import numpy as np\n",
    "import pandas as pd\n",
    "import matplotlib.pyplot as plt\n",
    "from sklearn.datasets import load_iris\n",
    "from sklearn.model_selection import train_test_split\n",
    "\n",
    "%matplotlib inline"
   ]
  },
  {
   "cell_type": "code",
   "execution_count": 3,
   "metadata": {},
   "outputs": [],
   "source": [
    "def create_data():\n",
    "    datasets = [['青年', '否', '否', '一般', '否'],\n",
    "               ['青年', '否', '否', '好', '否'],\n",
    "               ['青年', '是', '否', '好', '是'],\n",
    "               ['青年', '是', '是', '一般', '是'],\n",
    "               ['青年', '否', '否', '一般', '否'],\n",
    "               ['中年', '否', '否', '一般', '否'],\n",
    "               ['中年', '否', '否', '好', '否'],\n",
    "               ['中年', '是', '是', '好', '是'],\n",
    "               ['中年', '否', '是', '非常好', '是'],\n",
    "               ['中年', '否', '是', '非常好', '是'],\n",
    "               ['老年', '否', '是', '非常好', '是'],\n",
    "               ['老年', '否', '是', '好', '是'],\n",
    "               ['老年', '是', '否', '好', '是'],\n",
    "               ['老年', '是', '否', '非常好', '是'],\n",
    "               ['老年', '否', '否', '一般', '否'],\n",
    "               ]\n",
    "    columns = ['年龄', '有工作', '有自己的房子', '信贷情况', '类别']\n",
    "    # 返回数据集和每个维度的名称\n",
    "    return datasets, columns\n",
    "datasets, columns = create_data()\n",
    "train_data = pd.DataFrame(datasets, columns=columns)"
   ]
  },
  {
   "cell_type": "code",
   "execution_count": 9,
   "metadata": {},
   "outputs": [],
   "source": [
    "def empiricalEntropy(train_data, label):\n",
    "    \"\"\"\n",
    "    经验熵\n",
    "    train_data: 数据集\n",
    "    label: 目标集\n",
    "    \"\"\"\n",
    "    data_length = len(train_data)\n",
    "    labels_count = train_data[label].value_counts()\n",
    "    pi = [label / data_length for label in labels_count]\n",
    "    entropy = -sum([(p * log(p, 2)) for p in pi])\n",
    "    return entropy\n",
    "\n",
    "def empiricalConditionalEntropy(train_data, columns):\n",
    "    \"\"\"\n",
    "    条件经验熵\n",
    "    \"\"\"\n",
    "    data_length = len(train_data)\n",
    "    labels = pd.unique(train_data[columns[-1]])\n",
    "    labels_length = len(labels)\n",
    "    result = {}\n",
    "    for col in columns[:-1]:\n",
    "        attr_name = pd.unique(train_data[col])\n",
    "        attr_count = train_data[col].value_counts()\n",
    "        tmp = []\n",
    "        for name, count in zip(attr_name, attr_count):\n",
    "            # 特征的一个属性属于某类的概率\n",
    "            pi = [len(train_data[train_data[col] == name][train_data[columns[-1]] == label]) / count for label in labels]\n",
    "            entropy = -sum([p * log(p, 2) for p in pi if p != 0.0]) * (count / data_length)\n",
    "            tmp.append(entropy)\n",
    "        result[col] = sum(tmp)\n",
    "    max_entropy = sorted(result.items(), key=lambda x: x[1])[0]\n",
    "    return max_entropy\n",
    "\n",
    "def infoGain(emp_en, con_en):\n",
    "    return emp_en - con_en\n",
    "\n",
    "def main(train_data, label, columns):\n",
    "    columns = columns + [label]\n",
    "    emp_en = empiricalEntropy(train_data, label)\n",
    "    con_en = empiricalConditionalEntropy(train_data, columns)\n",
    "    result = infoGain(emp_en, con_en[1])\n",
    "    text = '特征({})的信息增益最大为{}，选择为根节点特征'.format(con_en[0], result)\n",
    "    return text"
   ]
  },
  {
   "cell_type": "code",
   "execution_count": 10,
   "metadata": {},
   "outputs": [
    {
     "name": "stderr",
     "output_type": "stream",
     "text": [
      "/home/dxigui/.local/lib/python3.6/site-packages/ipykernel_launcher.py:27: UserWarning: Boolean Series key will be reindexed to match DataFrame index.\n"
     ]
    },
    {
     "data": {
      "text/plain": [
       "'特征(有自己的房子)的信息增益最大为0.4199730940219749，选择为根节点特征'"
      ]
     },
     "execution_count": 10,
     "metadata": {},
     "output_type": "execute_result"
    }
   ],
   "source": [
    "main(train_data, '类别', ['年龄', '有工作', '有自己的房子', '信贷情况'])"
   ]
  }
 ],
 "metadata": {
  "kernelspec": {
   "display_name": "Python 3",
   "language": "python",
   "name": "python3"
  },
  "language_info": {
   "codemirror_mode": {
    "name": "ipython",
    "version": 3
   },
   "file_extension": ".py",
   "mimetype": "text/x-python",
   "name": "python",
   "nbconvert_exporter": "python",
   "pygments_lexer": "ipython3",
   "version": "3.6.5"
  }
 },
 "nbformat": 4,
 "nbformat_minor": 2
}
