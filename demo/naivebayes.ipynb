{
 "cells": [
  {
   "cell_type": "markdown",
   "metadata": {},
   "source": [
    "## 朴素贝叶斯\n",
    "### 1.基本方法\n",
    "朴素贝叶斯在训练数据学习**联合条件概率**前需要先得到**先验概率**和**条件概率**\n",
    "* 先验概率  \n",
    "$ P(Y=c_k), k=1,2,...,K $  \n",
    "* 条件概率  \n",
    "$ P(X=x|Y=c_k)=P(X^{(1)},...,X^{(n)}=x^{(n)}|Y=c_k), k=1,2,...,K $\n",
    "* 后验概率  \n",
    "$  P(Y=c_k|X=x)=\\frac{P(X=x|Y=c_k)P(Y=c_k)}{\\sum_{k}P(X=x|Y=c_k)P(Y=c_k)} $  \n",
    "后验概率最大化即期望概率最小化  \n",
    "$ f(x)=arg\\underset{c_k}{max}P(c_k|X=x) $  \n",
    "注:  \n",
    "类标记集合: $ Y={(c_1,c_2,...,c_k)} $  \n",
    "## 朴素贝叶斯参数估计\n",
    "### 1.极大似然法\n",
    "在朴素贝叶斯法中,学习意味着估计 $ P(Y=c_k) $ 和 $ P(Y=c_k|X=x) $,二这两个概率可以通过极大似然法估计  \n",
    "\n",
    "* 先验概率 $ P(Y=c_k) $ 估计  \n",
    "$ P(Y=c_k)=\\frac{\\sum_{i=1}^{N}I(Y_i=c_k)}{N}, k=1,2,...,K  $  \n",
    "设第 j 个特征 $ x^{(j)} $ 可能取值集合为 $ (a_{j1},a_{j2},...,a_{jSj}) $  \n",
    "* 条件概率 $ P(X^{(j)}=a_{j1}|Y=c_k) $  \n",
    "$ P(X^{j}=a_{jl}|Y=c_k)=\\frac{\\sum_{i=1}^{N}I(x_{i}^{(j)}=a_{jl},Y_i=c_k)}{\\sum_{i=1}^{N}I(Y_i=c_k)} $  \n",
    "$ j=1,2,..,n; l=1,2,...,S_j; k=1,2,...,K $  \n",
    "### 2.学习与分类算法\n",
    "### 4.贝叶斯估计\n",
    "在极大似然法估计中会出现一种特殊的情况,即估计的概率为 0,而影响到后验概率的计算,出现分类误差.  \n",
    "解决这一问题则引入**贝叶斯估计**  \n",
    "* 条件概率  \n",
    "$ P_{\\lambda}(X^{(j)}=a_{jl}|Y=c_k)=\\frac{\\sum_{i=1}^{N}I(x_{i}^{(j)}=a_{jl},Y_i=c_k)+{\\lambda}}{\\sum_{i=1}^{N}I(Y_i=c_k)+S_j{\\lambda}} $  \n",
    "$ {\\lambda}=1 $ 时称为拉普拉斯平滑,$ s_j $ 为 $ x^{(j)} $ 的个数即特征数  \n",
    "### 特征连续\n",
    "上面的后验概率是特征属性是离散的,而连续的特征属性的后验概率需要考虑概率密度函数  \n",
    "$ P(Y=c_k|X=x)=\\frac{1}{\\sqrt{2{\\pi}}{\\sigma_{c,i}}}exp(-\\frac{(x_i-{\\mu_{c,i}})^2}{2{\\sigma_{c,i}^2}}) $  \n",
    "其中 $ {\\mu_{c,i}} $ 和 $ {\\sigma_{c,i}^{2}} $ 分别为第 c 类样本在第 i 个属性上取值的均值和方差"
   ]
  },
  {
   "cell_type": "code",
   "execution_count": null,
   "metadata": {},
   "outputs": [],
   "source": []
  }
 ],
 "metadata": {
  "kernelspec": {
   "display_name": "Python 3",
   "language": "python",
   "name": "python3"
  },
  "language_info": {
   "codemirror_mode": {
    "name": "ipython",
    "version": 3
   },
   "file_extension": ".py",
   "mimetype": "text/x-python",
   "name": "python",
   "nbconvert_exporter": "python",
   "pygments_lexer": "ipython3",
   "version": "3.6.5"
  }
 },
 "nbformat": 4,
 "nbformat_minor": 2
}
