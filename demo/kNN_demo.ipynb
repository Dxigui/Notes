{
 "cells": [
  {
   "cell_type": "markdown",
   "metadata": {},
   "source": [
    "## k 近邻算法\n",
    "k 近邻算法是对给定的一个训练数据集,对新的输入实例,在训练数据集中找到与该实例最近的 k 个实例,这 k 个实例的多数属于某个类,酒吧该输入分给这个类.  \n",
    "模型三要素:\n",
    "1. 距离度量\n",
    "2. k 值选择\n",
    "3. 分类决策规则  \n",
    "  \n",
    "  \n",
    "* 距离度量  \n",
    "特征空间中的两个实例点的距离是两个实例点的相似度的反应.通常的距离有个**欧氏距离**,**曼哈顿距离**,**$ L_p $ 距离**,**Minkowski 距离**\n",
    "设特征空间 x 是 n 维实数向量空间 **$ R^n $**, **$ x_i,x_j \\epsilon X,x_i=({x_i}^{(1)},{x_i}^{(2)},...,{x_i}^{(n)})^T,x_j=({x_j}^{(1)},{x_j}^{(2)},...,{x_j}^{(n)})^T $**,  \n",
    "\n",
    "则 $ x_i,x_j $ 的 $ L_p $ 距离定义为  \n",
    "\n",
    "$ L_p(x_i,x_j)=(\\sum_{l=1}^{n}|{x_i}^{(l)}-{x_j}^{(l)}|^p)^{\\frac{1}{p}} $  \n",
    "当 p = 2 时为欧氏距离; 当 p = 1 时为曼哈顿距离\n",
    "* k 值的选择  \n",
    "k 值较小时学习的估计误差会增大,出现过拟合,k 值较大时学习的近似误差会增大,通常通过交叉验证法选取最优的 k 值大小\n",
    "* 多数表决分类决策规则  \n",
    "$ y = arg\\underset{c_j}{max} \\sum_{x_i\\epsilon{N_k(x)}} I({y_i}={c_j}), i=1,2,3,...,N; j=1,2,3,...,K $"
   ]
  },
  {
   "cell_type": "markdown",
   "metadata": {},
   "source": [
    "### 距离度量\n",
    "* p = 1 曼哈顿距离\n",
    "* p = 2 欧式距离\n",
    "* p = inf 闵式距离"
   ]
  },
  {
   "cell_type": "code",
   "execution_count": 55,
   "metadata": {},
   "outputs": [],
   "source": [
    "import math\n",
    "from collections import Counter\n",
    "\n",
    "import numpy as np\n",
    "import pandas as pd\n",
    "import matplotlib.pyplot as plt\n",
    "from sklearn.datasets import load_iris\n",
    "from sklearn.model_selection import train_test_split\n",
    "from sklearn.neighbors import KNeighborsClassifier\n",
    "\n",
    "%matplotlib inline"
   ]
  },
  {
   "cell_type": "code",
   "execution_count": 2,
   "metadata": {},
   "outputs": [],
   "source": [
    "def distance(x, y, p=2):\n",
    "    \"\"\"\n",
    "    距离度量\n",
    "    \"\"\"\n",
    "    if len(x) == len(y) and len(x) > 1:\n",
    "        sum = 0\n",
    "        for i in range(len(x)):\n",
    "            sum += math.pow(abs(x[i] - y[i]), p)\n",
    "        return math.pow(sum, 1 / p)\n",
    "    else:\n",
    "        return 0"
   ]
  },
  {
   "cell_type": "code",
   "execution_count": 3,
   "metadata": {},
   "outputs": [
    {
     "data": {
      "text/plain": [
       "8.94427190999916"
      ]
     },
     "execution_count": 3,
     "metadata": {},
     "output_type": "execute_result"
    }
   ],
   "source": [
    "distance([1,2,3,4,5],[5,6,7,8,9])"
   ]
  },
  {
   "cell_type": "code",
   "execution_count": 4,
   "metadata": {},
   "outputs": [],
   "source": [
    "x1 = [1, 1]\n",
    "x2 = [5, 1]\n",
    "x3 = [4, 4]"
   ]
  },
  {
   "cell_type": "code",
   "execution_count": 21,
   "metadata": {},
   "outputs": [
    {
     "name": "stdout",
     "output_type": "stream",
     "text": [
      "(distance, type-point): [(4.0, 'P=1-[5, 1]'), (6.0, 'P=1-[4, 4]')]\n",
      "(distance, type-point): [(4.0, 'P=2-[5, 1]'), (4.242640687119285, 'P=2-[4, 4]')]\n",
      "(distance, type-point): [(3.9999999999999996, 'P=3-[5, 1]'), (3.7797631496846193, 'P=3-[4, 4]')]\n",
      "(distance, type-point): [(4.0, 'P=4-[5, 1]'), (3.5676213450081633, 'P=4-[4, 4]')]\n"
     ]
    }
   ],
   "source": [
    "for i in range(1, 5):\n",
    "    r = {'P={}-{}'.format(i, c):distance(x1, c, p=i) for c in [x2, x3]}\n",
    "#     print(min(zip(r.values(), r.keys())))\n",
    "    print('(distance, type-point):',[i for i in zip(r.values(), r.keys())])"
   ]
  },
  {
   "cell_type": "markdown",
   "metadata": {},
   "source": [
    "### Python 实现 K 近邻对鸢尾花的分类"
   ]
  },
  {
   "cell_type": "code",
   "execution_count": 29,
   "metadata": {},
   "outputs": [],
   "source": [
    "# 加载数据\n",
    "iris = load_iris()\n",
    "df = pd.DataFrame(iris.data, columns=iris.feature_names)\n",
    "df['label'] = iris.target\n",
    "df.columns = ['sepal length', 'sepal width', 'petal length', 'petal width', 'label']"
   ]
  },
  {
   "cell_type": "code",
   "execution_count": 31,
   "metadata": {},
   "outputs": [
    {
     "data": {
      "text/plain": [
       "<matplotlib.legend.Legend at 0x7fd3fe07f0f0>"
      ]
     },
     "execution_count": 31,
     "metadata": {},
     "output_type": "execute_result"
    },
    {
     "name": "stderr",
     "output_type": "stream",
     "text": [
      "/home/dxigui/anaconda3/lib/python3.6/site-packages/matplotlib/font_manager.py:278: UserWarning: Matplotlib is building the font cache using fc-list. This may take a moment.\n",
      "  'Matplotlib is building the font cache using fc-list. '\n"
     ]
    },
    {
     "data": {
      "image/png": "[encoded data removed]",
      "text/plain": [
       "<Figure size 432x288 with 1 Axes>"
      ]
     },
     "metadata": {
      "needs_background": "light"
     },
     "output_type": "display_data"
    }
   ],
   "source": [
    "plt.scatter(df[:50]['sepal length'], df[:50]['sepal width'], label='0')\n",
    "plt.scatter(df[50:100]['sepal length'], df[50:100]['sepal width'], label='1')\n",
    "plt.xlabel('sepal length')\n",
    "plt.ylabel('sepal width')\n",
    "plt.legend()"
   ]
  },
  {
   "cell_type": "code",
   "execution_count": 34,
   "metadata": {},
   "outputs": [],
   "source": [
    "data = np.array(df.iloc[:100, [0, 1, -1]])\n",
    "X, y = data[:, :-1], data[:, -1]\n",
    "X_train, X_test, y_train, y_test = train_test_split(X, y, test_size=0.2)"
   ]
  },
  {
   "cell_type": "code",
   "execution_count": 78,
   "metadata": {},
   "outputs": [],
   "source": [
    "class KNN(object):\n",
    "    def __init__(self, X_train, y_train, n_neighbors=3, p=2):\n",
    "        self.n = n_neighbors\n",
    "        self.p = p\n",
    "        self.X_train = X_train\n",
    "        self.y_train = y_train\n",
    "    \n",
    "    def predict(self, X):\n",
    "        knn_list = []\n",
    "        for i in range(self.n):\n",
    "            # np.linalg.norm(x, ord=None, axis=None, keepdims=False)\n",
    "            # 通过 ord 指定返回 8 种不同的范式\n",
    "            dist = np.linalg.norm(X - self.X_train[i], ord=self.p)\n",
    "            knn_list.append((dist, self.y_train[i]))\n",
    "\n",
    "        for i in range(self.n, len(self.X_train)):\n",
    "            max_index = knn_list.index(max(knn_list, key=lambda x: x[0]))\n",
    "            dist = np.linalg.norm(X - self.X_train[i], ord=self.p)\n",
    "            if knn_list[max_index][0] > dist:\n",
    "                knn_list[max_index] = (dist, self.y_train[i])\n",
    "        \n",
    "        knn = [k[-1] for k in knn_list]\n",
    "        # 对每个进行计数,返回一个字典, \n",
    "        count_pairs = Counter(knn)\n",
    "        max_count = sorted(count_pairs, key=lambda x: x)[-1]\n",
    "        return max_count\n",
    "    \n",
    "    def score(self, X_test, y_test):\n",
    "        right_count = 0\n",
    "        n = 10\n",
    "        for X, y in zip(X_test, y_test):\n",
    "            label = self.predict(X)\n",
    "            if label == y:\n",
    "                right_count += 1\n",
    "        return right_count / len(X_test)"
   ]
  },
  {
   "cell_type": "code",
   "execution_count": 79,
   "metadata": {
    "collapsed": true
   },
   "outputs": [
    {
     "name": "stdout",
     "output_type": "stream",
     "text": [
      "X [5.5 2.3]\n",
      "[(1.42126704035519, 0.0), (0.9219544457292886, 1.0), (1.442220510185596, 1.0)]\n",
      "X [5.1 3.8]\n",
      "[(0.6403124237432848, 0.0), (1.2806248474865696, 1.0), (1.7464249196572985, 1.0)]\n",
      "X [5.1 3.8]\n",
      "[(0.6403124237432848, 0.0), (1.2806248474865696, 1.0), (1.7464249196572985, 1.0)]\n",
      "X [5.4 3.4]\n",
      "[(0.8000000000000007, 0.0), (0.8062257748298542, 1.0), (1.334166406412633, 1.0)]\n",
      "X [6.2 2.2]\n",
      "[(2.0, 0.0), (0.8062257748298548, 1.0), (1.0295630140987, 1.0)]\n",
      "X [5.5 2.6]\n",
      "[(1.2041594578792296, 0.0), (0.7211102550927976, 1.0), (1.3, 1.0)]\n",
      "X [5.2 3.5]\n",
      "[(0.6082762530298225, 0.0), (1.0295630140986995, 1.0), (1.5524174696260025, 1.0)]\n",
      "X [5.7 2.6]\n",
      "[(1.3601470508735447, 0.0), (0.5656854249492376, 1.0), (1.118033988749895, 1.0)]\n",
      "X [4.7 3.2]\n",
      "[(0.22360679774997896, 0.0), (1.4142135623730945, 1.0), (2.0024984394500787, 1.0)]\n",
      "X [4.9 3. ]\n",
      "[(0.5000000000000003, 0.0), (1.1999999999999993, 1.0), (1.8027756377319946, 1.0)]\n",
      "X [4.6 3.2]\n",
      "[(0.19999999999999973, 0.0), (1.5132745950421556, 1.0), (2.102379604162864, 1.0)]\n",
      "X [5.2 4.1]\n",
      "[(0.9219544457292889, 0.0), (1.421267040355189, 1.0), (1.8027756377319943, 1.0)]\n",
      "X [5.1 2.5]\n",
      "[(1.0295630140987, 0.0), (1.118033988749895, 1.0), (1.7088007490635067, 1.0)]\n",
      "X [6.2 2.9]\n",
      "[(1.6763054614240216, 0.0), (0.14142135623730995, 1.0), (0.5385164807134505, 1.0)]\n",
      "X [5.1 3.5]\n",
      "[(0.5099019513592785, 0.0), (1.118033988749895, 1.0), (1.6492422502470647, 1.0)]\n",
      "X [5.7 4.4]\n",
      "[(1.486606874731851, 0.0), (1.4560219778561039, 1.0), (1.6401219466856727, 1.0)]\n",
      "X [5.9 3.2]\n",
      "[(1.3152946437965911, 0.0), (0.2828427124746186, 1.0), (0.8062257748298548, 1.0)]\n",
      "X [6.  3.4]\n",
      "[(1.4000000000000004, 0.0), (0.41231056256176585, 1.0), (0.761577310586391, 1.0)]\n",
      "X [4.9 3.1]\n",
      "[(0.4242640687119289, 0.0), (1.204159457879229, 1.0), (1.7999999999999998, 1.0)]\n",
      "X [5.5 3.5]\n",
      "[(0.905538513813742, 0.0), (0.7810249675906652, 1.0), (1.2649110640673518, 1.0)]\n"
     ]
    },
    {
     "data": {
      "text/plain": [
       "1.0"
      ]
     },
     "execution_count": 79,
     "metadata": {},
     "output_type": "execute_result"
    }
   ],
   "source": [
    "test = KNN(X_train, y_train)\n",
    "test.score(X_test, y_test)"
   ]
  },
  {
   "cell_type": "code",
   "execution_count": 70,
   "metadata": {},
   "outputs": [
    {
     "ename": "SyntaxError",
     "evalue": "invalid syntax (<ipython-input-70-860b17c5d698>, line 1)",
     "output_type": "error",
     "traceback": [
      "\u001b[0;36m  File \u001b[0;32m\"<ipython-input-70-860b17c5d698>\"\u001b[0;36m, line \u001b[0;32m1\u001b[0m\n\u001b[0;31m    np.array([5.5 2.3]) - np.array([4.6 3.4])\u001b[0m\n\u001b[0m                    ^\u001b[0m\n\u001b[0;31mSyntaxError\u001b[0m\u001b[0;31m:\u001b[0m invalid syntax\n"
     ]
    }
   ],
   "source": []
  },
  {
   "cell_type": "code",
   "execution_count": 51,
   "metadata": {},
   "outputs": [
    {
     "name": "stdout",
     "output_type": "stream",
     "text": [
      "Test Point: 0.0\n"
     ]
    }
   ],
   "source": [
    "test_point = [6.0, 5.0]\n",
    "print('Test Point: {}'.format(test.predict(test_point)))"
   ]
  },
  {
   "cell_type": "code",
   "execution_count": 53,
   "metadata": {},
   "outputs": [
    {
     "data": {
      "text/plain": [
       "<matplotlib.legend.Legend at 0x7fd3f999f048>"
      ]
     },
     "execution_count": 53,
     "metadata": {},
     "output_type": "execute_result"
    },
    {
     "data": {
      "image/png": "[encoded data removed]",
      "text/plain": [
       "<Figure size 432x288 with 1 Axes>"
      ]
     },
     "metadata": {
      "needs_background": "light"
     },
     "output_type": "display_data"
    }
   ],
   "source": [
    "plt.scatter(df[:50]['sepal length'], df[:50]['sepal width'], label='0')\n",
    "plt.scatter(df[50:100]['sepal length'], df[50:100]['sepal width'], label='1')\n",
    "plt.plot(test_point[0], test_point[1], 'ro', label='test_point')\n",
    "plt.xlabel('sepal length')\n",
    "plt.ylabel('sepal width')\n",
    "plt.legend()"
   ]
  },
  {
   "cell_type": "markdown",
   "metadata": {},
   "source": [
    "### Scikitlearn"
   ]
  },
  {
   "cell_type": "code",
   "execution_count": 57,
   "metadata": {},
   "outputs": [
    {
     "data": {
      "text/plain": [
       "1.0"
      ]
     },
     "execution_count": 57,
     "metadata": {},
     "output_type": "execute_result"
    }
   ],
   "source": [
    "sk_knn = KNeighborsClassifier()\n",
    "sk_knn.fit(X_train, y_train)\n",
    "sk_knn.score(X_test, y_test)"
   ]
  },
  {
   "cell_type": "code",
   "execution_count": 77,
   "metadata": {},
   "outputs": [
    {
     "data": {
      "text/plain": [
       "1.42126704035519"
      ]
     },
     "execution_count": 77,
     "metadata": {},
     "output_type": "execute_result"
    }
   ],
   "source": [
    "np.linalg.norm(np.array([5.5, 2.3]) - np.array([4.6, 3.4]))"
   ]
  },
  {
   "cell_type": "code",
   "execution_count": 80,
   "metadata": {},
   "outputs": [
    {
     "data": {
      "text/plain": [
       "Counter({1: 3, 2: 1, 3: 1})"
      ]
     },
     "execution_count": 80,
     "metadata": {},
     "output_type": "execute_result"
    }
   ],
   "source": [
    "Counter([1,1,2,3,1])"
   ]
  },
  {
   "cell_type": "markdown",
   "metadata": {},
   "source": [
    "### kd 树"
   ]
  },
  {
   "cell_type": "markdown",
   "metadata": {},
   "source": [
    "k 邻近通过线性扫描实现,当训练集过大时计算耗时.  \n",
    "kd 树能结构存储训练数据,类似二叉树,可以减少计算次数.  \n",
    "kd 树是对空间的一种划分,构造方法\n",
    "* 随着树的深度轮流选择轴当作分割面.（例如：在三维空间中根节点是 x 轴垂直分割面，其子节点皆为 y 轴垂直分割面，\n",
    "其孙节点皆为 z 轴垂直分割面，其曾孙节点则皆为 x 轴垂直分割面，依此类推。）\n",
    "* 点由垂直分割面之轴座标的中位数区分并放入子树"
   ]
  },
  {
   "cell_type": "code",
   "execution_count": null,
   "metadata": {},
   "outputs": [],
   "source": []
  }
 ],
 "metadata": {
  "kernelspec": {
   "display_name": "Python 3",
   "language": "python",
   "name": "python3"
  },
  "language_info": {
   "codemirror_mode": {
    "name": "ipython",
    "version": 3
   },
   "file_extension": ".py",
   "mimetype": "text/x-python",
   "name": "python",
   "nbconvert_exporter": "python",
   "pygments_lexer": "ipython3",
   "version": "3.6.5"
  }
 },
 "nbformat": 4,
 "nbformat_minor": 2
}
